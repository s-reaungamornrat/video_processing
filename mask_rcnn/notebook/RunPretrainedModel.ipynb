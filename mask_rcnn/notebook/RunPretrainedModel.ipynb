{
 "cells": [
  {
   "cell_type": "code",
   "execution_count": null,
   "id": "6deeed96-d236-4d56-9f80-8ebbcfaa6c5d",
   "metadata": {},
   "outputs": [],
   "source": [
    "%matplotlib inline"
   ]
  },
  {
   "cell_type": "code",
   "execution_count": null,
   "id": "912a8eef-40ff-42be-903d-8562a71cf6a5",
   "metadata": {},
   "outputs": [],
   "source": [
    "!wget https://www.cis.upenn.edu/~jshi/ped_html/PennFudanPed.zip -P data\n",
    "!cd data && unzip PennFudanPed.zip"
   ]
  },
  {
   "cell_type": "code",
   "execution_count": null,
   "id": "882f260b-8f48-43d8-96d3-623fd1d781a9",
   "metadata": {},
   "outputs": [],
   "source": [
    "from torchvision.io import read_image\n",
    "\n",
    "image=read_image('data/PennFudanPed/PNGImages/FudanPed00046.png') # CxHxW -> CxYxX\n",
    "mask=read_image('data/PennFudanPed/PedMasks/FudanPed00046_mask.png') # CxHxW -> CxYxX\n",
    "print('image ', type(image), image.shape, image.dtype)\n",
    "print('mask ', type(mask), mask.shape, mask.dtype)\n",
    "\n",
    "annotation=read_annotation('data/PennFudanPed/Annotation/FudanPed00046.txt')\n",
    "print(annotation)\n",
    "display_image_overlay(image=image, mask=mask, annotation=annotation)"
   ]
  },
  {
   "cell_type": "code",
   "execution_count": null,
   "id": "296c88f5-3b2f-4b16-960e-b58342ae4e32",
   "metadata": {},
   "outputs": [],
   "source": [
    "\n",
    "os.system(\"wget https://raw.githubusercontent.com/pytorch/vision/main/references/detection/engine.py\")\n",
    "os.system(\"wget https://raw.githubusercontent.com/pytorch/vision/main/references/detection/utils.py\")\n",
    "os.system(\"wget https://raw.githubusercontent.com/pytorch/vision/main/references/detection/coco_utils.py\")\n",
    "os.system(\"wget https://raw.githubusercontent.com/pytorch/vision/main/references/detection/coco_eval.py\")\n",
    "os.system(\"wget https://raw.githubusercontent.com/pytorch/vision/main/references/detection/transforms.py\")\n",
    "     "
   ]
  },
  {
   "cell_type": "code",
   "execution_count": null,
   "id": "cc644d81-16c1-4cc9-a61e-fb328433f078",
   "metadata": {},
   "outputs": [],
   "source": [
    "device=torch.device('cuda') if torch.cuda.is_available() else torch.device('cpu')\n",
    "print('device ', device)\n",
    "\n",
    "# load an instance segmentation model pre-trained on COCO\n",
    "model=torchvision.models.detection.maskrcnn_resnet50_fpn_v2(weights='DEFAULT')\n",
    "# move model to the right device\n",
    "model.to(device)"
   ]
  },
  {
   "cell_type": "code",
   "execution_count": null,
   "id": "081b06ef-a639-4dcd-b7ed-8baad7efcbb5",
   "metadata": {},
   "outputs": [],
   "source": [
    "train_dataset=PennFudanDataset(root='data/PennFudanPed', image_dirname='PNGImages', mask_dirname='PedMasks', annotation_dirname='Annotation',\n",
    "                         transforms=get_transform(is_train=True, image_mean=model.transform.image_mean, image_std=model.transform.image_std,\n",
    "                                                  min_size=model.transform.min_size, max_size=model.transform.max_size))\n",
    "\n",
    "# define training and validation data loaders\n",
    "tarin_loader = torch.utils.data.DataLoader(train_dataset, batch_size=2,shuffle=True,collate_fn=utils.collate_fn)\n",
    "\n"
   ]
  }
 ],
 "metadata": {
  "kernelspec": {
   "display_name": "op_cv",
   "language": "python",
   "name": "op_cv"
  },
  "language_info": {
   "codemirror_mode": {
    "name": "ipython",
    "version": 3
   },
   "file_extension": ".py",
   "mimetype": "text/x-python",
   "name": "python",
   "nbconvert_exporter": "python",
   "pygments_lexer": "ipython3",
   "version": "3.9.21"
  }
 },
 "nbformat": 4,
 "nbformat_minor": 5
}
