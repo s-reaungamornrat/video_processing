{
 "cells": [
  {
   "cell_type": "code",
   "execution_count": 4,
   "id": "b0a55d10-8773-4992-bd00-898640a5d8d6",
   "metadata": {},
   "outputs": [],
   "source": [
    "from typing import Optional, Union\n",
    "from torch import Tensor\n",
    "import torch\n",
    "import numpy as np"
   ]
  },
  {
   "cell_type": "code",
   "execution_count": 5,
   "id": "a373a750-36af-44d4-b0a9-478fef5455b4",
   "metadata": {},
   "outputs": [],
   "source": [
    "class LevelMapper:\n",
    "    \"\"\"\n",
    "    Determine with FPN level each ROI in a set of ROIs should map to based on the \n",
    "    heuristic in the FPN paper\n",
    "    Args:\n",
    "        k_min(int)\n",
    "        k_max(int)\n",
    "        canonical_scale (int)\n",
    "        canonical_level (int)\n",
    "        eps (float)\n",
    "    \"\"\"\n",
    "    def __init__(self, k_min:int, k_max:int, \n",
    "                 canonical_scale:int=224, canonical_level:int=4,\n",
    "                 eps:float=1e-6):\n",
    "        self.k_min=k_min\n",
    "        self.k_max=k_max\n",
    "        self.s0=canonical_scale\n",
    "        self.lvl0=canonical_level\n",
    "        self.eps=eps\n",
    "    def __call__(self, boxlists:list[Tensor])->Tensor:\n",
    "        \"\"\"\n",
    "        Args:\n",
    "            boxlists (list[list[Tensor]])\n",
    "        \"\"\"\n",
    "        pass\n",
    "\n",
    "lvl_min=2.0  \n",
    "lvl_max=5.0\n",
    "lvlmap=LevelMapper(k_min=int(lvl_min), k_max=int(lvl_max), canonical_scale=224, canonical_level=4)"
   ]
  },
  {
   "cell_type": "code",
   "execution_count": null,
   "id": "728c8062-8683-4517-9504-7e24f8e51809",
   "metadata": {},
   "outputs": [],
   "source": []
  },
  {
   "cell_type": "code",
   "execution_count": null,
   "id": "767274a4-336e-404c-84be-be390933e0fa",
   "metadata": {},
   "outputs": [],
   "source": []
  }
 ],
 "metadata": {
  "kernelspec": {
   "display_name": "Python [conda env:op_cv]",
   "language": "python",
   "name": "conda-env-op_cv-py"
  },
  "language_info": {
   "codemirror_mode": {
    "name": "ipython",
    "version": 3
   },
   "file_extension": ".py",
   "mimetype": "text/x-python",
   "name": "python",
   "nbconvert_exporter": "python",
   "pygments_lexer": "ipython3",
   "version": "3.9.21"
  }
 },
 "nbformat": 4,
 "nbformat_minor": 5
}
