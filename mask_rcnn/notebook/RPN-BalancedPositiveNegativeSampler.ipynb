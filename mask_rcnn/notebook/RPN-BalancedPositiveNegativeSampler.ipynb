{
 "cells": [
  {
   "cell_type": "code",
   "execution_count": 1,
   "id": "488e794a-6720-4fea-8f86-495431d36017",
   "metadata": {},
   "outputs": [],
   "source": [
    "import os\n",
    "import torch\n",
    "import numpy as np"
   ]
  },
  {
   "cell_type": "code",
   "execution_count": 3,
   "id": "d217f5ad-0f9c-4be3-b9b5-27573ad0227b",
   "metadata": {},
   "outputs": [],
   "source": [
    "class BalancedPositiveNegativeSampler:\n",
    "    \"\"\"\n",
    "    This class samples batches, ensuring that they contain a fixed proportion of positives\n",
    "    \"\"\"\n",
    "    def __init__(self, batch_size_per_image, positive_fraction):\n",
    "        \"\"\"\n",
    "        Args:\n",
    "            batch_size_per_image (int): number of elements to be selected per image\n",
    "            positive_fraction (float): percentage of positive elements per batch\n",
    "        \"\"\"\n",
    "        self.batch_size_per_image=batch_size_per_image\n",
    "        self.positive_fraction=positive_fraction\n",
    "\n",
    "    def __call__(self, matched_idxs):\n",
    "        \"\"\"\n",
    "        Returns two lists of binary masks for each image. The first list contains the positive elements that \n",
    "        were selected, and the second list the negative example\n",
    "        Args:\n",
    "            matched_idxs: list of tensors containing -1, 0. or positive values.\n",
    "                Each tensor corresponds to a specific image.\n",
    "                -1 values are ignored, 0 are considered as negatives and >0 as positives\n",
    "        Returns:\n",
    "            pos_idx (list[tensor])\n",
    "            neg_idx (list[tensor])\n",
    "        \"\"\"\n",
    "        pass"
   ]
  },
  {
   "cell_type": "code",
   "execution_count": 5,
   "id": "4cc27ed6-c0db-44f8-b62a-e1afc44c32cb",
   "metadata": {},
   "outputs": [
    {
     "name": "stdout",
     "output_type": "stream",
     "text": [
      "labels  2 [(torch.Size([198249]), tensor(-1.), tensor(1.)), (torch.Size([198249]), tensor(-1.), tensor(1.))]\n"
     ]
    }
   ],
   "source": [
    "data_dirpath='D:/data/mask_rcnn'\n",
    "\n",
    "device=torch.device(\"cpu\")\n",
    "labels=torch.load(os.path.join(data_dirpath, \"labels.pt\"),map_location=device, weights_only=True)\n",
    "print('labels ', len(labels), [(l.shape, l.min(), l.max()) for l in labels])\n",
    "batch_size_per_image, positive_fraction=256, 0.5\n",
    "fg_bg_sampler=BalancedPositiveNegativeSampler(batch_size_per_image, positive_fraction)"
   ]
  },
  {
   "cell_type": "markdown",
   "id": "a009622b-af49-4687-88c5-fcb11d7999d7",
   "metadata": {},
   "source": [
    "```\n",
    "sampled_pos_inds, sampled_neg_inds = self.fg_bg_sampler(labels)\n",
    "```"
   ]
  },
  {
   "cell_type": "code",
   "execution_count": 32,
   "id": "968465bf-cb21-4bb8-bd84-db0e4793da58",
   "metadata": {},
   "outputs": [
    {
     "name": "stdout",
     "output_type": "stream",
     "text": [
      "\n",
      "pos_idx  [(torch.Size([198249]), tensor(0, dtype=torch.uint8), tensor(1, dtype=torch.uint8)), (torch.Size([198249]), tensor(0, dtype=torch.uint8), tensor(1, dtype=torch.uint8))]\n",
      "\n",
      "neg_idx  [(torch.Size([198249]), tensor(0, dtype=torch.uint8), tensor(1, dtype=torch.uint8)), (torch.Size([198249]), tensor(0, dtype=torch.uint8), tensor(1, dtype=torch.uint8))]\n"
     ]
    }
   ],
   "source": [
    "matched_idxs=labels\n",
    "\n",
    "pos_idx, neg_idx=[],[]\n",
    "\n",
    "for matched_idxs_per_image in matched_idxs: \n",
    "    # matched_idxs_per_image is 1D tensor\n",
    "    positive=torch.nonzero(matched_idxs_per_image>=1, as_tuple=True)[0]\n",
    "    negative=torch.nonzero(matched_idxs_per_image==0, as_tuple=True)[0]\n",
    "\n",
    "    # number of positive samples\n",
    "    num_pos=int(fg_bg_sampler.batch_size_per_image*fg_bg_sampler.positive_fraction)\n",
    "    # protect against not enough positive examples\n",
    "    num_pos=min(positive.numel(), num_pos)\n",
    "    num_neg=fg_bg_sampler.batch_size_per_image-num_pos\n",
    "    # protect against not enough negative examples\n",
    "    num_neg=min(negative.numel(), num_neg)\n",
    "\n",
    "    # randomly select positive and negative examples\n",
    "    perm1=torch.randperm(positive.numel(), device=positive.device)[:num_pos]\n",
    "    perm2=torch.randperm(negative.numel(), device=negative.device)[:num_neg]\n",
    "\n",
    "    pos_idx_per_image=positive[perm1]\n",
    "    neg_idx_per_image=negative[perm2]\n",
    "\n",
    "    # create binary mask from indices\n",
    "    pos_idx_per_image_mask=torch.zeros_like(matched_idxs_per_image, dtype=torch.uint8)\n",
    "    neg_idx_per_image_mask=torch.zeros_like(matched_idxs_per_image, dtype=torch.uint8)\n",
    "    pos_idx_per_image_mask[pos_idx_per_image]=1\n",
    "    neg_idx_per_image_mask[neg_idx_per_image]=1\n",
    "\n",
    "    pos_idx.append(pos_idx_per_image_mask)\n",
    "    neg_idx.append(neg_idx_per_image_mask)\n",
    "\n",
    "print('\\npos_idx ', [(p.shape, p.min(), p.max()) for p in pos_idx])\n",
    "print('\\nneg_idx ', [(p.shape, p.min(), p.max()) for p in neg_idx])"
   ]
  }
 ],
 "metadata": {
  "kernelspec": {
   "display_name": "op_cv",
   "language": "python",
   "name": "op_cv"
  },
  "language_info": {
   "codemirror_mode": {
    "name": "ipython",
    "version": 3
   },
   "file_extension": ".py",
   "mimetype": "text/x-python",
   "name": "python",
   "nbconvert_exporter": "python",
   "pygments_lexer": "ipython3",
   "version": "3.9.21"
  }
 },
 "nbformat": 4,
 "nbformat_minor": 5
}
