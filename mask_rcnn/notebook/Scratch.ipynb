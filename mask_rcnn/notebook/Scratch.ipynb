{
 "cells": [
  {
   "cell_type": "code",
   "execution_count": 1,
   "id": "056d4d5e-edf4-47c1-8763-0f7016a3ea44",
   "metadata": {},
   "outputs": [],
   "source": [
    "import torch\n",
    "import torchvision\n",
    "import numpy as np"
   ]
  },
  {
   "cell_type": "code",
   "execution_count": 1,
   "id": "3456315a-78c7-44f6-8ee3-e541928bfc45",
   "metadata": {},
   "outputs": [],
   "source": [
    "import argparse"
   ]
  },
  {
   "cell_type": "code",
   "execution_count": null,
   "id": "1f27e588-690b-49c3-bc1b-94e240673f88",
   "metadata": {},
   "outputs": [],
   "source": [
    "# Create the parser\n",
    "parser = argparse.ArgumentParser(description='MaskRCNN')\n",
    "\n",
    "# Add arguments\n",
    "parser.add_argument('rpn-objectness-weight', type=float, default=10., help='weight to the loss of RPN objectness')\n",
    "parser.add_argument('rpn-box-regression-weight', type=float, default=50., help='weight to the loss of RPN box regression')\n",
    "parser.add_argument('roi-classifier-weight', type=float, default=1., help='weight to the loss of roi-head for object class')\n",
    "parser.add_argument('roi-box-regression-weight', type=float, default=5., help='weight to the loss for roi-head box regression')\n",
    "parser.add_argument('mask-weight', type=float, default=0,5, help='weight to mask loss')"
   ]
  },
  {
   "cell_type": "code",
   "execution_count": null,
   "id": "ba35ad4b-4071-4962-b807-ddcef5542fba",
   "metadata": {},
   "outputs": [],
   "source": [
    "weights={'loss_classifier':1., 'loss_box_reg':5., 'loss_mask':0.5,\n",
    "         'loss_objectness':10., 'loss_rpn_box_reg':50.}"
   ]
  },
  {
   "cell_type": "code",
   "execution_count": 4,
   "id": "e6567b68-e8e1-47be-9763-7ce4350da9c1",
   "metadata": {},
   "outputs": [
    {
     "data": {
      "text/plain": [
       "torch.Size([2, 10])"
      ]
     },
     "execution_count": 4,
     "metadata": {},
     "output_type": "execute_result"
    }
   ],
   "source": [
    "# we create data to show how to index into it\n",
    "proposals=torch.rand(2, 100) # BxN\n",
    "indices=torch.stack([torch.randperm(100)[:10] for _ in range(2)]) # assume this Bx10 is the index\n",
    "# we need to create batch indices of shape Bx1\n",
    "batch_indices=torch.arange(2)[:,None]\n",
    "# we can index proposals like below\n",
    "proposals[batch_indices, indices].shape"
   ]
  },
  {
   "cell_type": "code",
   "execution_count": 2,
   "id": "32ccdb90-0620-4192-9e45-3008faf3cc04",
   "metadata": {
    "scrolled": true
   },
   "outputs": [],
   "source": [
    "ms_roi_align=torchvision.ops.MultiScaleRoIAlign(['feat1', 'feat3'], output_size=3, sampling_ratio=2,\n",
    "                                               canonical_scale = 224, canonical_level = 4)"
   ]
  },
  {
   "cell_type": "code",
   "execution_count": 6,
   "id": "29ea04e5-fe82-490f-b5cb-0e570652e3f2",
   "metadata": {},
   "outputs": [
    {
     "name": "stdout",
     "output_type": "stream",
     "text": [
      "torch.Size([6, 5, 3, 3])\n"
     ]
    }
   ],
   "source": [
    "inputs={'feat1':torch.rand(1,5,64,64), 'feat2':torch.rand(1,5,32,32), 'feat3':torch.rand(1,5,16,16)}\n",
    "boxes=torch.rand(6,4)*256\n",
    "boxes[:,2:]+=boxes[:,:2]\n",
    "image_sizes=[(512,512)]\n",
    "output=ms_roi_align(inputs, [boxes], image_sizes)\n",
    "print(output.shape)"
   ]
  },
  {
   "cell_type": "code",
   "execution_count": null,
   "id": "595745b8-96ce-40fb-baa5-3d10efaa7deb",
   "metadata": {},
   "outputs": [],
   "source": []
  },
  {
   "cell_type": "code",
   "execution_count": null,
   "id": "c100dfba-e124-486b-903c-e4d7a4e1bead",
   "metadata": {},
   "outputs": [],
   "source": []
  }
 ],
 "metadata": {
  "kernelspec": {
   "display_name": "Python [conda env:op_cv]",
   "language": "python",
   "name": "conda-env-op_cv-py"
  },
  "language_info": {
   "codemirror_mode": {
    "name": "ipython",
    "version": 3
   },
   "file_extension": ".py",
   "mimetype": "text/x-python",
   "name": "python",
   "nbconvert_exporter": "python",
   "pygments_lexer": "ipython3",
   "version": "3.9.21"
  }
 },
 "nbformat": 4,
 "nbformat_minor": 5
}
