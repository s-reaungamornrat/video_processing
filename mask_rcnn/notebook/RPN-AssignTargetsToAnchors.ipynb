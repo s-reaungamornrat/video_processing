{
 "cells": [
  {
   "cell_type": "code",
   "execution_count": 52,
   "id": "682e9036-e783-4b47-ba16-97a7bad2ac28",
   "metadata": {},
   "outputs": [],
   "source": [
    "import os\n",
    "import torch\n",
    "import torchvision\n",
    "import numpy as np\n",
    "\n",
    "from matching import Matcher"
   ]
  },
  {
   "cell_type": "code",
   "execution_count": 47,
   "id": "0a9d83c0-f186-486c-858c-87030a92c1a2",
   "metadata": {},
   "outputs": [
    {
     "name": "stdout",
     "output_type": "stream",
     "text": [
      "targets  [torch.Size([4, 4]), torch.Size([2, 4])]\n",
      "anchors  [torch.Size([185460, 4]), torch.Size([185460, 4])]\n"
     ]
    }
   ],
   "source": [
    "data_dirpath='D:/data/mask_rcnn'\n",
    "fg_iou_thresh=0.7\n",
    "bg_iou_thresh=0.3\n",
    "\n",
    "device=torch.device(\"cpu\")\n",
    "assign_targets_to_anchors=torch.load(os.path.join(data_dirpath, \"assign_targets_to_anchors.pt\"),map_location=device, weights_only=True)\n",
    "targets=assign_targets_to_anchors['targets']\n",
    "anchors=assign_targets_to_anchors['anchors']\n",
    "print('targets ', [t['boxes'].shape for t in targets])\n",
    "print('anchors ', [a.shape for a in anchors])\n",
    "\n",
    "proposal_matcher = Matcher(fg_iou_thresh,bg_iou_thresh,allow_low_quality_matches=True)"
   ]
  },
  {
   "cell_type": "code",
   "execution_count": 51,
   "id": "03bccfd5-fa2e-4dc9-8742-0dd376f706bd",
   "metadata": {},
   "outputs": [
    {
     "name": "stdout",
     "output_type": "stream",
     "text": [
      "matched_idxs  torch.Size([185460]) tensor(-2) tensor(3)\n",
      "matched_idxs  torch.Size([185460]) tensor(-2) tensor(1)\n"
     ]
    }
   ],
   "source": [
    "labels,matched_gt_boxes=[],[]\n",
    "for anchors_per_image, targets_per_image in zip(anchors, targets):\n",
    "    gt_boxes=targets_per_image['boxes']\n",
    "\n",
    "    if gt_boxes.numel()==0:\n",
    "        # Background image (negative example)\n",
    "        device=anchors_per_image.device\n",
    "        matched_gt_boxes_per_image=torch.zeros(anchors_per_image.shape, dtype=torch.float32, device=device)\n",
    "        labels_per_image=torch.zeros((anchors_per_image.shape[0],), dtype=torch.float32, device=device)\n",
    "    else:\n",
    "        # Nx4 Mx4 => NxM\n",
    "        match_quality_matrix=torchvision.ops.box_iou(gt_boxes, anchors_per_image)\n",
    "        matched_idxs=proposal_matcher(match_quality_matrix)\n",
    "        print('matched_idxs ', matched_idxs.shape, matched_idxs.min(), matched_idxs.max())\n",
    "        # get the targets corresponding to ground truth for each proposal\n",
    "        # Note: need to clamp the indices because we can have a single ground truth in the image,\n",
    "        # matched_idxs can be -2, which goes out of bounds\n",
    "        matched_gt_boxes_per_image=gt_boxes[matched_idxs.clamp(min=0)]\n",
    "\n",
    "        labels_per_image=matched_idxs>=0\n",
    "        labels_per_image=labels_per_image.to(dtype=torch.float32)\n",
    "\n",
    "        # Background (negative examples)\n",
    "        bg_indices=matched_idxs==proposal_matcher.BELOW_LOW_THRESHOLD\n",
    "        labels_per_image[bg_indices]=0.\n",
    "\n",
    "        # discard indices that are between thresholds\n",
    "        inds_to_discard=matched_idxs==proposal_matcher.BETWEEN_THRESHOLDS\n",
    "        labels_per_image[inds_to_discard]=-1.\n",
    "    labels.append(labels_per_image)\n",
    "    matched_gt_boxes.append(matched_gt_boxes_per_image)\n"
   ]
  },
  {
   "cell_type": "code",
   "execution_count": 49,
   "id": "03bb90d2-de7b-4417-ac18-1271a182b689",
   "metadata": {},
   "outputs": [
    {
     "data": {
      "text/plain": [
       "torch.Size([185460])"
      ]
     },
     "execution_count": 49,
     "metadata": {},
     "output_type": "execute_result"
    }
   ],
   "source": []
  }
 ],
 "metadata": {
  "kernelspec": {
   "display_name": "op_cv",
   "language": "python",
   "name": "op_cv"
  },
  "language_info": {
   "codemirror_mode": {
    "name": "ipython",
    "version": 3
   },
   "file_extension": ".py",
   "mimetype": "text/x-python",
   "name": "python",
   "nbconvert_exporter": "python",
   "pygments_lexer": "ipython3",
   "version": "3.9.21"
  }
 },
 "nbformat": 4,
 "nbformat_minor": 5
}
