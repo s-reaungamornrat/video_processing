{
 "cells": [
  {
   "cell_type": "markdown",
   "id": "f3aa1d92-4fb2-4d9e-ad46-17df8cf51a40",
   "metadata": {},
   "source": [
    "#### Code from [torchvision.models.detectioon](https://github.com/pytorch/vision/tree/main/torchvision/models/detection)"
   ]
  },
  {
   "cell_type": "code",
   "execution_count": null,
   "id": "12ece647-40fe-4464-9a64-6e382b9663cb",
   "metadata": {},
   "outputs": [],
   "source": []
  }
 ],
 "metadata": {
  "kernelspec": {
   "display_name": "op_cv",
   "language": "python",
   "name": "op_cv"
  },
  "language_info": {
   "codemirror_mode": {
    "name": "ipython",
    "version": 3
   },
   "file_extension": ".py",
   "mimetype": "text/x-python",
   "name": "python",
   "nbconvert_exporter": "python",
   "pygments_lexer": "ipython3",
   "version": "3.9.21"
  }
 },
 "nbformat": 4,
 "nbformat_minor": 5
}
