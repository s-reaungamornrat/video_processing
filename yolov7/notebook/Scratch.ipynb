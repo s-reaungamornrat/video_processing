{
 "cells": [
  {
   "cell_type": "code",
   "execution_count": 1,
   "id": "c0534e74-0a79-45a3-a02e-083c0a2f1396",
   "metadata": {},
   "outputs": [
    {
     "name": "stdout",
     "output_type": "stream",
     "text": [
      "Canis familiaris\n",
      "Canis familiaris\n",
      "Canis familiaris\n",
      "Wolf\n",
      "Wolf\n"
     ]
    }
   ],
   "source": [
    "class Dog:\n",
    "    species = \"Canis familiaris\"  # <-- Class variable\n",
    "\n",
    "    def __init__(self, name):\n",
    "        self.name = name  # <-- Instance variable\n",
    "\n",
    "# Accessing class variable\n",
    "print(Dog.species)  # \"Canis familiaris\"\n",
    "\n",
    "# All instances share the same class variable\n",
    "dog1 = Dog(\"Buddy\")\n",
    "dog2 = Dog(\"Charlie\")\n",
    "\n",
    "print(dog1.species)  # \"Canis familiaris\"\n",
    "print(dog2.species)  # \"Canis familiaris\"\n",
    "\n",
    "# Modifying through the class changes it for all instances\n",
    "Dog.species = \"Wolf\"\n",
    "print(dog1.species)  # \"Wolf\"\n",
    "print(dog2.species)  # \"Wolf\"\n"
   ]
  },
  {
   "cell_type": "code",
   "execution_count": 2,
   "id": "e616dc63-c931-4aab-8dcc-672c74911faf",
   "metadata": {},
   "outputs": [
    {
     "data": {
      "text/plain": [
       "mappingproxy({'__module__': '__main__',\n",
       "              'species': 'Wolf',\n",
       "              '__init__': <function __main__.Dog.__init__(self, name)>,\n",
       "              '__dict__': <attribute '__dict__' of 'Dog' objects>,\n",
       "              '__weakref__': <attribute '__weakref__' of 'Dog' objects>,\n",
       "              '__doc__': None})"
      ]
     },
     "execution_count": 2,
     "metadata": {},
     "output_type": "execute_result"
    }
   ],
   "source": [
    "Dog.__dict__"
   ]
  },
  {
   "cell_type": "code",
   "execution_count": 3,
   "id": "b0112c48-e64b-47a4-994f-4b9fc4dcd8d8",
   "metadata": {},
   "outputs": [
    {
     "data": {
      "text/plain": [
       "{'name': 'Charlie'}"
      ]
     },
     "execution_count": 3,
     "metadata": {},
     "output_type": "execute_result"
    }
   ],
   "source": [
    "dog2.__dict__"
   ]
  }
 ],
 "metadata": {
  "kernelspec": {
   "display_name": "Python [conda env:op_cv]",
   "language": "python",
   "name": "conda-env-op_cv-py"
  },
  "language_info": {
   "codemirror_mode": {
    "name": "ipython",
    "version": 3
   },
   "file_extension": ".py",
   "mimetype": "text/x-python",
   "name": "python",
   "nbconvert_exporter": "python",
   "pygments_lexer": "ipython3",
   "version": "3.9.21"
  }
 },
 "nbformat": 4,
 "nbformat_minor": 5
}
