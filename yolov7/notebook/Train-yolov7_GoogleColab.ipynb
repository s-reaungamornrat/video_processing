{
 "cells": [
  {
   "cell_type": "markdown",
   "id": "b8395559-f3be-4bdf-827c-0b2ddb718939",
   "metadata": {},
   "source": [
    "Replacing `https://github.com` by `https://colab.research.google.com/github` as mentioned in [stackoverflow](https://stackoverflow.com/questions/62596466/how-can-i-run-notebooks-of-a-github-project-in-google-colab)"
   ]
  },
  {
   "cell_type": "markdown",
   "id": "811e806f-6e68-4b6b-9d3f-290bdd4dc335",
   "metadata": {},
   "source": [
    "### Download data"
   ]
  },
  {
   "cell_type": "code",
   "execution_count": null,
   "id": "d296e846-7d75-49d8-9ddc-41419a6f543c",
   "metadata": {},
   "outputs": [],
   "source": [
    "# if run in Google colab\n",
    "!wget https://github.com/WongKinYiu/yolov7/releases/download/v0.1/coco2017labels-segments.zip -P data\n",
    "!cd data\n",
    "!nohup unzip coco2017labels-segments.zip "
   ]
  },
  {
   "cell_type": "code",
   "execution_count": null,
   "id": "72255692-4f59-4b36-88ab-36e5ebbb37c9",
   "metadata": {},
   "outputs": [],
   "source": [
    "!cd coco/\n",
    "!wget http://images.cocodataset.org/zips/train2017.zip -P images\n",
    "!nohup unzip train2017.zip \n",
    "!wget http://images.cocodataset.org/zips/val2017.zip -P images\n",
    "!nohup unzip val2017.zip "
   ]
  }
 ],
 "metadata": {
  "kernelspec": {
   "display_name": "Python [conda env:op_cv]",
   "language": "python",
   "name": "conda-env-op_cv-py"
  },
  "language_info": {
   "codemirror_mode": {
    "name": "ipython",
    "version": 3
   },
   "file_extension": ".py",
   "mimetype": "text/x-python",
   "name": "python",
   "nbconvert_exporter": "python",
   "pygments_lexer": "ipython3",
   "version": "3.9.21"
  }
 },
 "nbformat": 4,
 "nbformat_minor": 5
}
