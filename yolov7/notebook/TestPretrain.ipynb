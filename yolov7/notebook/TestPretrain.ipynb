{
 "cells": [
  {
   "cell_type": "code",
   "execution_count": 1,
   "id": "5f657275-18fb-4738-88e7-e72de8795b82",
   "metadata": {},
   "outputs": [
    {
     "data": {
      "text/plain": [
       "<torch._C.Generator at 0x24ad5236cb0>"
      ]
     },
     "execution_count": 1,
     "metadata": {},
     "output_type": "execute_result"
    }
   ],
   "source": [
    "%matplotlib inline\n",
    "\n",
    "import os\n",
    "import re\n",
    "import sys\n",
    "import yaml\n",
    "import random\n",
    "\n",
    "import torch\n",
    "import torch.nn as nn\n",
    "import numpy as np\n",
    "import matplotlib.pyplot as plt\n",
    "\n",
    "seed=0\n",
    "random.seed(seed)\n",
    "np.random.seed(seed)\n",
    "torch.manual_seed(seed)\n",
    "\n",
    "## slower, more reproducible\n",
    "#cudnn.benchmark, cudnn.deterministic = False, True\n",
    "## faster, less reproducible\n",
    "#cudnn.benchmark, cudnn.deterministic = True, False"
   ]
  },
  {
   "cell_type": "code",
   "execution_count": 2,
   "id": "3e702822-4ff5-4a6b-b268-875d53ea133f",
   "metadata": {},
   "outputs": [],
   "source": [
    "\n",
    "%load_ext autoreload\n",
    "%autoreload 2\n",
    "\n",
    "sys.path.append('../../../')\n",
    "from video_processing.yolov7.parameter_parser import parser\n",
    "from video_processing.yolov7.models.model import Model\n",
    "from video_processing.yolov7.models.ema import ModelEMA\n",
    "from video_processing.yolov7.loss.module import ComputeLoss\n",
    "from video_processing.yolov7.train.utils import setup_optimizer, labels_to_class_weights, train_an_epoch\n",
    "from video_processing.yolov7.dataset.coco_dataset import LoadImagesAndLabels\n",
    "from video_processing.yolov7.utils.general import one_cycle, check_image_size\n",
    "from video_processing.yolov7.dataset.anchors import check_anchor_matching\n",
    "\n",
    "from video_processing.yolov7.metrics.confusion_matrix import ConfusionMatrix\n",
    "from video_processing.yolov7.utils.general import non_max_suppression\n",
    "from video_processing.yolov7.dataset.coords import adjust_coords, xywh2xyxy\n",
    "from video_processing.yolov7.test.utils import statistics_per_image, validation\n",
    "from video_processing.yolov7.metrics.utils import ap_per_class"
   ]
  },
  {
   "cell_type": "code",
   "execution_count": 3,
   "id": "86c805a3-f147-4a1f-b703-2e82f47b987c",
   "metadata": {},
   "outputs": [
    {
     "name": "stdout",
     "output_type": "stream",
     "text": [
      "cpu 2\n"
     ]
    }
   ],
   "source": [
    "data_dirpath='D:/data/coco'\n",
    "result_dirpath='D:/results/yolov7'\n",
    "\n",
    "argument=f\"\"\"\n",
    "--data-dirpath {data_dirpath}/coco --output-dirpath {result_dirpath} \n",
    "--worker 1 --device cpu --batch-size 2 --data coco.yaml --img 1280 1280 --cfg yolov7-w6.yaml\n",
    "--weights ''  --name yolov7-w6 --hyp hyp.scratch.p6.yaml \n",
    "--n-training-data 100 --n-val-data 20 --correct-exif --print-freq 1 \n",
    "--dev-mode\n",
    "\"\"\"\n",
    "args=parser.parse_args(argument.split())\n",
    "device=torch.device('cpu' if not torch.cuda.is_available() or args.device=='cpu' else 'cuda')\n",
    "print(device, args.batch_size)"
   ]
  },
  {
   "cell_type": "code",
   "execution_count": 4,
   "id": "fe065cc1-91ef-4289-9595-5584918c618b",
   "metadata": {},
   "outputs": [
    {
     "name": "stdout",
     "output_type": "stream",
     "text": [
      "args.is_coco  True\n"
     ]
    }
   ],
   "source": [
    "# hyperparameters\n",
    "with open(args.hyp) as f: hyp=yaml.load(f, Loader=yaml.SafeLoader)\n",
    "# data\n",
    "args.is_coco=len(re.findall(\"coco.yaml$\", args.data))>0\n",
    "print('args.is_coco ', args.is_coco)\n",
    "with open(args.data) as f: data_dict=yaml.load(f, Loader=yaml.SafeLoader)\n",
    "# number of classes\n",
    "nc=1 if args.single_cls else int(data_dict['nc']) \n",
    "names=['item'] if args.single_cls and len(data_dict['names'])!=1 else data_dict['names'] # class names\n",
    "assert len(names)==nc, f'There are {len(names)} class names but {nc} classes' "
   ]
  },
  {
   "cell_type": "code",
   "execution_count": 5,
   "id": "f4cdc907-2a53-4ae0-8898-10756b2f0bb8",
   "metadata": {},
   "outputs": [
    {
     "name": "stdout",
     "output_type": "stream",
     "text": [
      "In IAxDetect nl: 4 na: 3\n",
      "In IAxDetect anchors: torch.Size([4, 3, 2]) 4x3x2\n",
      "In IAxDetect anchor_grid: torch.Size([4, 1, 3, 1, 1, 2]) 4x1x3x1x1x2\n",
      "In dataset.coco_dataset.__init__ save cache to D:\\data\\coco\\coco\\labels\\val2017.cache cache_path.is_file() True\n"
     ]
    }
   ],
   "source": [
    "model=Model(args.cfg, ch=3, nc=nc, anchors=hyp.get('anchors')).to(device)  # it is safer to move model to device first and then create optimizer\n",
    "# train/val data loader\n",
    "val_dataset=LoadImagesAndLabels(data_dirpath=args.data_dirpath, image_paths=data_dict['val'], img_size=args.img_size[0],\n",
    "                            augment=False, hyp=hyp, n_data=args.n_val_data, correct_exif=args.correct_exif)\n",
    "val_loader=torch.utils.data.DataLoader(dataset=val_dataset, batch_size=args.batch_size, num_workers=1, pin_memory=True, \n",
    "                                        collate_fn=LoadImagesAndLabels.collate_fn)\n",
    "# model_ema=ModelEMA(model)"
   ]
  },
  {
   "cell_type": "code",
   "execution_count": 6,
   "id": "8a4b4eb4-1a36-4b0f-96e7-a299f518a655",
   "metadata": {},
   "outputs": [],
   "source": [
    "# url='https://github.com/WongKinYiu/yolov7/releases/download/v0.1/yolov7-w6.pt'\n",
    "# model.load_state_dict(torch.hub.load_state_dict_from_url(url, progress=False))"
   ]
  },
  {
   "cell_type": "code",
   "execution_count": null,
   "id": "d5c8f789-ca10-4136-8d6f-267b16bac8e1",
   "metadata": {},
   "outputs": [
    {
     "name": "stderr",
     "output_type": "stream",
     "text": [
      "Using cache found in C:\\Users\\suree/.cache\\torch\\hub\\WongKinYiu_yolov7_main\n"
     ]
    }
   ],
   "source": [
    "_model = torch.hub.load('WongKinYiu/yolov7', 'yolov7-w6')\n",
    "checkpoints=torch.load(os.path.join(args.output_dirpath, 'yolov7-w6_training.pt'),map_location=device, weights_only=False)\n",
    "type(checkpoints), checkpoints.keys()"
   ]
  },
  {
   "cell_type": "code",
   "execution_count": null,
   "id": "addd52bb-a34b-4973-aeea-867da589b405",
   "metadata": {},
   "outputs": [],
   "source": [
    "# model parameters\n",
    "nl=model.model[-1].nl\n",
    "print(\"hyp['box'] \", hyp['box'],  \" hyp['cls'] \", hyp['cls'], \" hyp['obj] \", hyp['obj'] )\n",
    "hyp['box']*=3./nl # box-regression loss weight scaled to layer\n",
    "hyp['cls']*= nc/80. * 3./nl # classification loss weight scaled to classes and layers\n",
    "hyp['obj']*=(args.img_size[0]/640)**2 *3./nl # objectness loss weight scaled to image size and layers\n",
    "hyp['label_smoothing']=args.label_smoothing\n",
    "model.nc=nc # attach number of classes to model\n",
    "model.hyp=hyp\n",
    "# blending factor between fixed objectness of 1 and IoU between prediction and ground truth\n",
    "# used to set target objectness, i.e., target_objectness = (1-gr)+gr*iou\n",
    "model.gr=1. \n",
    "model.names=data_dict['names']\n",
    "print(\"hyp['box'] \", hyp['box'],  \" hyp['cls'] \", hyp['cls'], \" hyp['obj] \", hyp['obj'], ' args.label_smoothing ', args.label_smoothing )\n"
   ]
  }
 ],
 "metadata": {
  "kernelspec": {
   "display_name": "Python [conda env:op_cv]",
   "language": "python",
   "name": "conda-env-op_cv-py"
  },
  "language_info": {
   "codemirror_mode": {
    "name": "ipython",
    "version": 3
   },
   "file_extension": ".py",
   "mimetype": "text/x-python",
   "name": "python",
   "nbconvert_exporter": "python",
   "pygments_lexer": "ipython3",
   "version": "3.9.21"
  }
 },
 "nbformat": 4,
 "nbformat_minor": 5
}
