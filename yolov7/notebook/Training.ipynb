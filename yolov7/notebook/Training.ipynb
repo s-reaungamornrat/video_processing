{
 "cells": [
  {
   "cell_type": "markdown",
   "id": "5a624060-038c-47da-ba5a-5389c6d9caf3",
   "metadata": {},
   "source": [
    "[`yolov7`](https://github.com/WongKinYiu/yolov7/tree/main)\n",
    "\n",
    "[train_aux.py](https://github.com/WongKinYiu/yolov7/blob/main/train_aux.py#L41) training on large images with more complex models"
   ]
  },
  {
   "cell_type": "code",
   "execution_count": 27,
   "id": "363d8410-ef2c-4764-acc9-5461ddab3fe1",
   "metadata": {},
   "outputs": [
    {
     "data": {
      "text/plain": [
       "<torch._C.Generator at 0x13aa3e3ec50>"
      ]
     },
     "execution_count": 27,
     "metadata": {},
     "output_type": "execute_result"
    }
   ],
   "source": [
    "%matplotlib inline\n",
    "\n",
    "import os\n",
    "import re\n",
    "import sys\n",
    "import yaml\n",
    "import random\n",
    "\n",
    "import torch\n",
    "import torch.nn as nn\n",
    "import numpy as np\n",
    "import matplotlib.pyplot as plt\n",
    "\n",
    "seed=0\n",
    "random.seed(seed)\n",
    "np.random.seed(seed)\n",
    "torch.manual_seed(seed)\n",
    "\n",
    "## slower, more reproducible\n",
    "#cudnn.benchmark, cudnn.deterministic = False, True\n",
    "## faster, less reproducible\n",
    "#cudnn.benchmark, cudnn.deterministic = True, False"
   ]
  },
  {
   "cell_type": "code",
   "execution_count": 65,
   "id": "2be91897-9c3f-4c18-a525-78df8e2bfe32",
   "metadata": {},
   "outputs": [
    {
     "name": "stdout",
     "output_type": "stream",
     "text": [
      "The autoreload extension is already loaded. To reload it, use:\n",
      "  %reload_ext autoreload\n"
     ]
    }
   ],
   "source": [
    "\n",
    "%load_ext autoreload\n",
    "%autoreload 2\n",
    "\n",
    "sys.path.append('../../../')\n",
    "from video_processing.yolov7.parameter_parser import parser\n",
    "from video_processing.yolov7.models.model import Model\n",
    "from video_processing.yolov7.train.utils import setup_optimizer\n",
    "from video_processing.yolov7.utils.general import one_cycle, check_image_size"
   ]
  },
  {
   "cell_type": "code",
   "execution_count": 3,
   "id": "2ff3581b-9c69-4107-aa16-651a5c5cabac",
   "metadata": {},
   "outputs": [],
   "source": [
    "data_dirpath='D:/data/coco'\n",
    "result_dirpath='D:/results/yolov7'\n",
    "\n",
    "argument=f\"\"\"--data-dirpath {data_dirpath}/coco --output-dirpath {result_dirpath} \n",
    "--worker 1 --device cpu --batch-size 2 --data coco.yaml --img 1280 1280 --cfg yolov7-w6.yaml\n",
    "--weights ''  --name yolov7-w6 --hyp hyp.scratch.p6.yaml\"\"\"\n",
    "args=parser.parse_args(argument.split())"
   ]
  },
  {
   "cell_type": "code",
   "execution_count": 4,
   "id": "5a7eaed4-dca2-41db-9721-c894323ca61d",
   "metadata": {},
   "outputs": [
    {
     "name": "stdout",
     "output_type": "stream",
     "text": [
      "cpu 2\n"
     ]
    }
   ],
   "source": [
    "device=torch.device('cpu' if not torch.cuda.is_available() or args.device=='cpu' else 'cuda')\n",
    "print(device, args.batch_size)"
   ]
  },
  {
   "cell_type": "code",
   "execution_count": 6,
   "id": "34039bf6-5cad-4297-993a-aaa608c2fa26",
   "metadata": {},
   "outputs": [],
   "source": [
    "if not os.path.isdir(args.output_dirpath):os.makedirs(args.output_dirpath)\n",
    "args.checkpoint_dirpath=os.path.join(args.output_dirpath, args.checkpoint_dirname)\n",
    "if not os.path.isdir(args.checkpoint_dirpath): os.makedirs(args.checkpoint_dirpath)"
   ]
  },
  {
   "cell_type": "code",
   "execution_count": 14,
   "id": "bd215935-dcc2-4f47-b4be-c39710b8757d",
   "metadata": {},
   "outputs": [
    {
     "name": "stdout",
     "output_type": "stream",
     "text": [
      "args.is_coco  True\n"
     ]
    }
   ],
   "source": [
    "# hyperparameters\n",
    "with open(args.hyp) as f: hyp=yaml.load(f, Loader=yaml.SafeLoader)\n",
    "# data\n",
    "args.is_coco=len(re.findall(\"coco.yaml$\", args.data))>0\n",
    "print('args.is_coco ', args.is_coco)\n",
    "with open(args.data) as f: data_dict=yaml.load(f, Loader=yaml.SafeLoader)\n",
    "# number of classes\n",
    "nc=1 if args.single_cls else int(data_dict['nc']) \n",
    "names=['item'] if args.single_cls and len(data_dict['names'])!=1 else data_dict['names'] # class names\n",
    "assert len(names)==nc, f'There are {len(names)} class names but {nc} classes' "
   ]
  },
  {
   "cell_type": "code",
   "execution_count": 9,
   "id": "2eeb8f89-0eba-4887-a668-7d3dedac32fc",
   "metadata": {},
   "outputs": [],
   "source": [
    "# save running\n",
    "with open(os.path.join(args.output_dirpath, 'hyp.yaml'), 'w') as f: yaml.dump(hyp, f, sort_keys=False)\n",
    "with open(os.path.join(args.output_dirpath, 'args.yaml'), 'w') as f: yaml.dump(vars(args), f, sort_keys=False)"
   ]
  },
  {
   "cell_type": "code",
   "execution_count": 22,
   "id": "e9cf784e-bb57-4152-b049-4a621542715f",
   "metadata": {},
   "outputs": [],
   "source": [
    "n_classes=1 if args.single_cls else int(data_dict['nc']) # number of classes\n",
    "names=['items'] if args.single_cls and len(data_dict['names'])>1 else data_dict['names'] # class names\n",
    "assert len(names)==nc, f'Found {len(names)} for {n_classes} defined in {args.data}'\n"
   ]
  },
  {
   "cell_type": "code",
   "execution_count": 67,
   "id": "1bb8d1f8-d7b9-4ab9-ad9f-22d1e4409b41",
   "metadata": {},
   "outputs": [
    {
     "name": "stdout",
     "output_type": "stream",
     "text": [
      "In IAxDetect nl: 4 na: 3\n",
      "In IAxDetect anchors: torch.Size([4, 3, 2]) 4x3x2\n",
      "In IAxDetect anchor_grid: torch.Size([4, 1, 3, 1, 1, 2]) 4x1x3x1x1x2\n"
     ]
    }
   ],
   "source": [
    "# define model and optimizers\n",
    "model=Model(args.cfg, ch=3, nc=nc, anchors=hyp.get('anchors')).to(device)  # it is safer to move model to device first and then create optimizer\n",
    "optimizer=setup_optimizer(model, learning_rate=hyp['lr0'], momentum=hyp['momentum'], weight_decay=hyp['weight_decay'])\n",
    "scheduler=torch.optim.lr_scheduler.LambdaLR(optimizer=optimizer, lr_lambda=one_cycle(1., hyp['lrf'], args.epochs))\n",
    "start_epoch, best_loss=1, np.inf\n",
    "if args.resume is not None and os.path.isfile(os.path.join(args.checkpoint_dirpath, args.resume)):\n",
    "    checkpoint = torch.load(PATH, map_location=device, weights_only=True)\n",
    "    model.load_state_dict(checkpoint['model'])\n",
    "    optimizer.load_state_dict(checkpoint['optimizer'])\n",
    "    scheduler.load_state_dict(checkpoint['scheduler'])\n",
    "    start_epoch = checkpoint['epoch']+1\n",
    "    best_loss = checkpoint['best_loss']"
   ]
  },
  {
   "cell_type": "code",
   "execution_count": 77,
   "id": "358f8498-a362-43e8-87cb-5a723a202346",
   "metadata": {},
   "outputs": [],
   "source": [
    "# check that the image size divisible by stride\n",
    "max_stride=max(int(model.stride.max()), 32)\n",
    "assert check_image_size(image_size=args.img_size, stride=max_stride), f'{args.img_size} must be divisible by {max_stride}'\n"
   ]
  },
  {
   "cell_type": "code",
   "execution_count": null,
   "id": "edd92e40-eb01-4efb-a289-a41f9f8256c5",
   "metadata": {},
   "outputs": [],
   "source": [
    "# train data loader"
   ]
  },
  {
   "cell_type": "code",
   "execution_count": null,
   "id": "22fc6149-5aac-4d38-bb29-4585146115d8",
   "metadata": {},
   "outputs": [],
   "source": []
  },
  {
   "cell_type": "code",
   "execution_count": 20,
   "id": "a0445191-bdd2-4f90-bb73-df228bd5a0fd",
   "metadata": {},
   "outputs": [
    {
     "data": {
      "text/plain": [
       "80"
      ]
     },
     "execution_count": 20,
     "metadata": {},
     "output_type": "execute_result"
    }
   ],
   "source": [
    "torch.save({\n",
    "            'epoch': epoch,\n",
    "            'model': model.state_dict(),\n",
    "            'optimizer': optimizer.state_dict(),\n",
    "            'scheduler': scheduler.state_dict(),\n",
    "            'best_loss': best_loss,\n",
    "            ...\n",
    "            }, PATH)"
   ]
  }
 ],
 "metadata": {
  "kernelspec": {
   "display_name": "Python [conda env:op_cv]",
   "language": "python",
   "name": "conda-env-op_cv-py"
  },
  "language_info": {
   "codemirror_mode": {
    "name": "ipython",
    "version": 3
   },
   "file_extension": ".py",
   "mimetype": "text/x-python",
   "name": "python",
   "nbconvert_exporter": "python",
   "pygments_lexer": "ipython3",
   "version": "3.9.21"
  }
 },
 "nbformat": 4,
 "nbformat_minor": 5
}
