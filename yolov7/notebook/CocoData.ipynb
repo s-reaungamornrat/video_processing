{
 "cells": [
  {
   "cell_type": "markdown",
   "id": "f9b5ff5e-c9f1-4b76-bb92-2d56c9c406a7",
   "metadata": {},
   "source": [
    "### YOLOv7\n",
    "\n",
    "[yolov7](https://github.com/WongKinYiu/yolov7?tab=readme-ov-file)"
   ]
  },
  {
   "cell_type": "code",
   "execution_count": 1,
   "id": "9032d6a1-397f-4f27-9795-c0e001c38b7f",
   "metadata": {},
   "outputs": [],
   "source": [
    "import os\n",
    "import wget"
   ]
  },
  {
   "cell_type": "code",
   "execution_count": 2,
   "id": "29a84576-ac28-4fe7-9245-23dfc241ae16",
   "metadata": {},
   "outputs": [],
   "source": [
    "data_dirpath='D:/data/coco'\n",
    "\n",
    "if not os.path.isdir(data_dirpath): os.makedirs(data_dirpath)\n",
    "\n",
    "url='http://images.cocodataset.org/zips'\n",
    "for dirname in ['train2017.zip', 'val2017.zip', 'test2017.zip']:\n",
    "    wget.download(f'{url}/{dirname}', f'{data_dirpath}/{dirname}')"
   ]
  },
  {
   "cell_type": "code",
   "execution_count": 3,
   "id": "57075441-b34f-4228-9d7d-544adbfa7ca7",
   "metadata": {},
   "outputs": [
    {
     "name": "stdout",
     "output_type": "stream",
     "text": [
      "100% [......................................................................] 252907541 / 252907541"
     ]
    },
    {
     "data": {
      "text/plain": [
       "'D:/data/coco/annotations_trainval2017.zip'"
      ]
     },
     "execution_count": 3,
     "metadata": {},
     "output_type": "execute_result"
    }
   ],
   "source": [
    "url='http://images.cocodataset.org/annotations/annotations_trainval2017.zip'\n",
    "wget.download(f'{url}', f'{data_dirpath}')"
   ]
  },
  {
   "cell_type": "code",
   "execution_count": null,
   "id": "0aa1bc7b-147d-48e8-9990-5e9845706d4c",
   "metadata": {},
   "outputs": [],
   "source": [
    "# !wget http://images.cocodataset.org/zips/train2017.zip\n",
    "# !wget http://images.cocodataset.org/zips/val2017.zip\n",
    "# !wget http://images.cocodataset.org/zips/test2017.zip\n",
    "# !wget https://github.com/WongKinYiu/yolov7/releases/download/v0.1/coco2017labels-segments.zip\n",
    "# !wget http://images.cocodataset.org/annotations/annotations_trainval2017.zip\n",
    "# !wget https://github.com/ultralytics/yolov5/releases/download/v1.0/coco2017labels-segments.zip"
   ]
  }
 ],
 "metadata": {
  "kernelspec": {
   "display_name": "Python [conda env:op_cv]",
   "language": "python",
   "name": "conda-env-op_cv-py"
  },
  "language_info": {
   "codemirror_mode": {
    "name": "ipython",
    "version": 3
   },
   "file_extension": ".py",
   "mimetype": "text/x-python",
   "name": "python",
   "nbconvert_exporter": "python",
   "pygments_lexer": "ipython3",
   "version": "3.9.21"
  }
 },
 "nbformat": 4,
 "nbformat_minor": 5
}
