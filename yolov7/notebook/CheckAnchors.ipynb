{
 "cells": [
  {
   "cell_type": "markdown",
   "id": "e95da31e-eb56-486a-9f50-6f41d3ea7efa",
   "metadata": {},
   "source": [
    "[`check_anchors`](https://github.com/WongKinYiu/yolov7/blob/main/utils/autoanchor.py)\n",
    "\n",
    "Call in [`train_aux.py`](https://github.com/WongKinYiu/yolov7/blob/main/train_aux.py) line 270\n",
    "```\n",
    "    # Anchors\n",
    "    if not opt.noautoanchor:\n",
    "        check_anchors(dataset, model=model, thr=hyp['anchor_t'], imgsz=imgsz)\n",
    "```"
   ]
  },
  {
   "cell_type": "code",
   "execution_count": 1,
   "id": "ab16af2c-f7f2-4ce2-9864-b300b196def2",
   "metadata": {},
   "outputs": [
    {
     "data": {
      "text/plain": [
       "<torch._C.Generator at 0x2182421ec10>"
      ]
     },
     "execution_count": 1,
     "metadata": {},
     "output_type": "execute_result"
    }
   ],
   "source": [
    "%matplotlib inline\n",
    "\n",
    "import os\n",
    "import re\n",
    "import sys\n",
    "import yaml\n",
    "import random\n",
    "\n",
    "import torch\n",
    "import torch.nn as nn\n",
    "import numpy as np\n",
    "import matplotlib.pyplot as plt\n",
    "\n",
    "seed=0\n",
    "random.seed(seed)\n",
    "np.random.seed(seed)\n",
    "torch.manual_seed(seed)\n",
    "\n",
    "## slower, more reproducible\n",
    "#cudnn.benchmark, cudnn.deterministic = False, True\n",
    "## faster, less reproducible\n",
    "#cudnn.benchmark, cudnn.deterministic = True, False"
   ]
  },
  {
   "cell_type": "code",
   "execution_count": 2,
   "id": "5156eb2b-b3f9-4ff7-ab5d-6bda9cf6e137",
   "metadata": {},
   "outputs": [],
   "source": [
    "\n",
    "%load_ext autoreload\n",
    "%autoreload 2\n",
    "\n",
    "sys.path.append('../../../')\n",
    "from video_processing.yolov7.parameter_parser import parser\n",
    "from video_processing.yolov7.models.model import Model\n",
    "from video_processing.yolov7.train.utils import setup_optimizer\n",
    "from video_processing.yolov7.dataset.coco_dataset import LoadImagesAndLabels\n",
    "from video_processing.yolov7.utils.general import one_cycle, check_image_size"
   ]
  },
  {
   "cell_type": "code",
   "execution_count": 3,
   "id": "e4b58cc0-3df4-4976-8a04-b1ba3ec329c3",
   "metadata": {},
   "outputs": [],
   "source": [
    "data_dirpath='D:/data/coco'\n",
    "result_dirpath='D:/results/yolov7'\n",
    "\n",
    "argument=f\"\"\"\n",
    "--data-dirpath {data_dirpath}/coco --output-dirpath {result_dirpath} \n",
    "--worker 1 --device cpu --batch-size 2 --data coco.yaml --img 1280 1280 --cfg yolov7-w6.yaml\n",
    "--weights ''  --name yolov7-w6 --hyp hyp.scratch.p6.yaml \n",
    "--n-training-data 100 --n-val-data 20 --correct-exif\n",
    "\"\"\"\n",
    "args=parser.parse_args(argument.split())"
   ]
  },
  {
   "cell_type": "code",
   "execution_count": 4,
   "id": "f593c1c2-41a1-4052-a7da-06067b9def87",
   "metadata": {},
   "outputs": [
    {
     "name": "stdout",
     "output_type": "stream",
     "text": [
      "cpu 2\n"
     ]
    }
   ],
   "source": [
    "device=torch.device('cpu' if not torch.cuda.is_available() or args.device=='cpu' else 'cuda')\n",
    "print(device, args.batch_size)"
   ]
  },
  {
   "cell_type": "code",
   "execution_count": 5,
   "id": "6800694e-7925-4af3-878d-5680217a6b97",
   "metadata": {},
   "outputs": [
    {
     "name": "stdout",
     "output_type": "stream",
     "text": [
      "args.is_coco  True\n"
     ]
    }
   ],
   "source": [
    "# hyperparameters\n",
    "with open(args.hyp) as f: hyp=yaml.load(f, Loader=yaml.SafeLoader)\n",
    "# data\n",
    "args.is_coco=len(re.findall(\"coco.yaml$\", args.data))>0\n",
    "print('args.is_coco ', args.is_coco)\n",
    "with open(args.data) as f: data_dict=yaml.load(f, Loader=yaml.SafeLoader)\n",
    "# number of classes\n",
    "nc=1 if args.single_cls else int(data_dict['nc']) \n",
    "names=['item'] if args.single_cls and len(data_dict['names'])!=1 else data_dict['names'] # class names\n",
    "assert len(names)==nc, f'There are {len(names)} class names but {nc} classes' "
   ]
  },
  {
   "cell_type": "code",
   "execution_count": 6,
   "id": "b2d36e01-efcb-4f3f-9880-a2cd3e1c7d0a",
   "metadata": {},
   "outputs": [
    {
     "name": "stdout",
     "output_type": "stream",
     "text": [
      "In IAxDetect nl: 4 na: 3\n",
      "In IAxDetect anchors: torch.Size([4, 3, 2]) 4x3x2\n",
      "In IAxDetect anchor_grid: torch.Size([4, 1, 3, 1, 1, 2]) 4x1x3x1x1x2\n",
      "In dataset.coco_dataset.__init__ save cache to D:\\data\\coco\\coco\\labels\\train2017.cache cache_path.is_file() True\n"
     ]
    }
   ],
   "source": [
    "model=Model(args.cfg, ch=3, nc=nc, anchors=hyp.get('anchors')).to(device)  # it is safer to move model to device first and then create optimizer\n",
    "train_dataset=LoadImagesAndLabels(data_dirpath=args.data_dirpath, image_paths=data_dict['train'], img_size=args.img_size[0],\n",
    "                            augment=True, hyp=hyp, n_data=args.n_training_data, correct_exif=args.correct_exif)"
   ]
  },
  {
   "cell_type": "code",
   "execution_count": 56,
   "id": "9038253c-3fda-481f-ba6b-e5ccec1e3c30",
   "metadata": {},
   "outputs": [],
   "source": [
    "from video_processing.yolov7.dataset.anchors import best_possible_recall_metric"
   ]
  },
  {
   "cell_type": "code",
   "execution_count": 15,
   "id": "9b527cfb-50ea-4c06-8670-40959dce7b57",
   "metadata": {},
   "outputs": [],
   "source": [
    "dataset=train_dataset\n",
    "thr=4.\n",
    "imgsz=args.img_size[0]"
   ]
  },
  {
   "cell_type": "code",
   "execution_count": 42,
   "id": "4da42494-e3e4-42ee-bc35-731ab85c508b",
   "metadata": {},
   "outputs": [
    {
     "name": "stdout",
     "output_type": "stream",
     "text": [
      "boxes_width_heights  torch.Size([802, 2]) torch.float32\n"
     ]
    }
   ],
   "source": [
    "# get detection module\n",
    "module=model.model[-1]\n",
    "# make the maximum size = imgsz while keeping the aspect ratio consistent\n",
    "shapes=imgsz*dataset.image_sizes/dataset.image_sizes.max(1, keepdims=True) # Nx2 where N is the number of images\n",
    "scale=np.random.uniform(0.9, 1.1, size=(shapes.shape[0], 1)) # Nx1 augment scale\n",
    "# change normalized width,height to width/height in pixel unit using scaled_shape\n",
    "# then stack along number of boxes to Nx2\n",
    "boxes_width_heights=torch.from_numpy(np.concatenate([s[None,:]*l[:,3:] for s, l in zip(shapes*scale, dataset.labels)], axis=0)).float()\n",
    "print('boxes_width_heights ', boxes_width_heights.shape, boxes_width_heights.dtype)"
   ]
  },
  {
   "cell_type": "code",
   "execution_count": 57,
   "id": "97bc2542-1f44-496e-9d42-ad2cb80b42df",
   "metadata": {},
   "outputs": [
    {
     "name": "stdout",
     "output_type": "stream",
     "text": [
      "anchors_width_heights  torch.Size([12, 2]) torch.float32\n",
      "anchors/target=5.68, Best possible recall (BPR): 0.9975\n"
     ]
    }
   ],
   "source": [
    "# nlx1xnax1x1x2 -> Mx2 width and height of each anchors\n",
    "anchors_width_heights=module.anchor_grid.clone().cpu().view(-1, 2)\n",
    "print('anchors_width_heights ', anchors_width_heights.shape, anchors_width_heights.dtype)\n",
    "bpr,n_anchors=best_possible_recall_metric(boxes_wh=boxes_width_heights, anchors_wh=anchors_width_heights, threshold=thr)\n",
    "print(f'anchors/target={n_anchors:.2f}, Best possible recall (BPR): {bpr:.4f}')"
   ]
  },
  {
   "cell_type": "code",
   "execution_count": 61,
   "id": "db050d4a-ca5c-401f-85c9-7d2c8c1d915d",
   "metadata": {},
   "outputs": [
    {
     "name": "stdout",
     "output_type": "stream",
     "text": [
      "n_anchors  12\n"
     ]
    }
   ],
   "source": [
    "n_anchors=module.anchor_grid.numel()//2 # divide by 2 because this contain both width and height\n",
    "print('n_anchors ', n_anchors)\n",
    "#anchors = kmean_anchors(dataset, n=na, img_size=imgsz, thr=thr, gen=1000, verbose=False)"
   ]
  },
  {
   "cell_type": "code",
   "execution_count": 79,
   "id": "2620f03c-1cc0-416f-b0b8-d674f01387a6",
   "metadata": {},
   "outputs": [
    {
     "name": "stdout",
     "output_type": "stream",
     "text": [
      "Running Kmeans for 12 on 802 boxes\n",
      "filtered_boxes_width_height  torch.Size([802, 2])  original_boxes_width_height  torch.Size([802, 2])\n",
      "threshold=4.00: 0.0000 best possible recall, 0.00 anchors passes the threshold\n",
      "n_anchors=12, img_size=1280, metric_all=0.162/0.528 mean/best, past_threshold nan-mean: (122,103), (238,232), (356,515), (696,335), (587,766), (1332,601), (881,1197), (2286,1001), (1556,1952), (4255,1554), (2864,3108), (5868,2492)\n"
     ]
    }
   ],
   "source": [
    "from scipy.cluster.vq import kmeans\n",
    "\n",
    "\n",
    "def kmean_anchors(dataset, n_anchors, img_size,thr=4.0, gen=1000, verbose=False): \n",
    "    '''\n",
    "    Create kmean-evolved anchors from training data\n",
    "    Args:\n",
    "        dataset: loaded dataset\n",
    "        n_anchors (int): number of anchors\n",
    "        img_size (int): training data size\n",
    "        thr (float): ratio of width/height between anchors and ground-truth boxes\n",
    "        gen (int): generations to evolve anchors using genetic algorithm\n",
    "        verbose (bool): print result\n",
    "        \n",
    "    '''\n",
    "    def metric(k, wh):\n",
    "        '''\n",
    "        Compute size matching score where 1 means best match and < 0 means worst match\n",
    "        Args:\n",
    "            k (Tensor): Kx2 where K is the number of boxes and 2 for width and height\n",
    "            wh (Tensor): Mx2 where M is the number of reference boxes and 2 for width and height\n",
    "        Returns:\n",
    "            scores (Tensor): MxK size matching scores \n",
    "            best_scores (Tensor): M best matching scores for each box in k\n",
    "        '''\n",
    "        ratio=wh[:,None]/k[None] # MxKx2\n",
    "        scores=torch.minimum(ratio, 1./ratio).min(dim=2).values # MxK matching scores\n",
    "        return scores, scores.max(dim=1).values\n",
    "\n",
    "    def print_results(k):\n",
    "        '''\n",
    "        Args:\n",
    "            k (Tensor): Kx2 where K is the number of anchors and 2 is for width and height \n",
    "        '''\n",
    "        scores, best_scores=metric(k, original_boxes_width_height)\n",
    "        # best possible recall and the number of anchors with scores > input-score\n",
    "        bpr, n_matched_achors=(best_scores>thr).float().mean(), (scores>thr).float().sum()\n",
    "        print(f'threshold={thr:.2f}: {bpr:.4f} best possible recall, {n_matched_achors:.2f} anchors passes the threshold')\n",
    "        print(f'n_anchors={n_anchors}, img_size={img_size}, metric_all={scores.mean():.3f}/{best_scores.mean():.3f} mean/best', end=', ')\n",
    "        print(f'past_threshold {scores[scores>thr].mean():.3f}-mean: ', end='')\n",
    "        for i, x in enumerate(k): print(f'({int(round(x[0].item()))},{int(round(x[1].item()))})', end=', ' if i<len(k)-1 else '\\n' )\n",
    "            \n",
    "    score=1./thr\n",
    "    # training data image size, keeping original aspect ratio between width and height \n",
    "    image_sizes=img_size*dataset.image_sizes/dataset.image_sizes.max(axis=1, keepdims=True) # Nx2 where N is the number of training data\n",
    "    # convert normalized width and height stored as labels to width and height in pixel unit \n",
    "    original_boxes_width_height=np.concatenate([l[:, 3:5]*s[None,:] for l, s in zip(dataset.labels, image_sizes)], axis=0) # Mx2\n",
    "\n",
    "    # filter\n",
    "    small_boxes=(original_boxes_width_height<3.).any(axis=1).sum()\n",
    "    if small_boxes>0: print(f'Warning: Extremely small objects found. {small_boxes} of {len(original_boxes_width_height)} labels are < 3 pixels in size ')\n",
    "    filtered_boxes_width_height=original_boxes_width_height[(original_boxes_width_height>=2.).any(axis=1)] # we allow only boxes > 2 pixel width and height\n",
    "\n",
    "    # Kmean\n",
    "    print(f'Running Kmeans for {n_anchors} on {len(filtered_boxes_width_height)} boxes')\n",
    "    std=filtered_boxes_width_height.std(axis=0) # 2 element sigmas for whitening of width and height\n",
    "    k, dist=kmeans(filtered_boxes_width_height/std, n_anchors, iter=30) # n_anchorsx2 points and scalar mean distance\n",
    "    assert len(k)==n_anchors, f'Error: scipy.cluster.vq.kmeans requested {n_anchors} points but returns only {len(k)}'\n",
    "    k*=s[None,:] # n_anchors x 2\n",
    "    filtered_boxes_width_height=torch.from_numpy(filtered_boxes_width_height).float()\n",
    "    original_boxes_width_height=torch.from_numpy(original_boxes_width_height).float()\n",
    "    print('filtered_boxes_width_height ', filtered_boxes_width_height.shape, ' original_boxes_width_height ',\n",
    "         original_boxes_width_height.shape)\n",
    "    \n",
    "    # sort anchors by areas from small to large\n",
    "    k=torch.from_numpy(k[np.argsort(k.prod(axis=1))]).float()\n",
    "    print_results(k)\n",
    "\n",
    "anchors = kmean_anchors(dataset=dataset, n_anchors=n_anchors, img_size=imgsz, thr=thr, gen=1000, verbose=True)"
   ]
  },
  {
   "cell_type": "code",
   "execution_count": 72,
   "id": "67badec2-18f1-4e4a-a195-68659e8f9460",
   "metadata": {},
   "outputs": [
    {
     "data": {
      "text/plain": [
       "12"
      ]
     },
     "execution_count": 72,
     "metadata": {},
     "output_type": "execute_result"
    }
   ],
   "source": [
    "n_anchors"
   ]
  }
 ],
 "metadata": {
  "kernelspec": {
   "display_name": "Python [conda env:op_cv]",
   "language": "python",
   "name": "conda-env-op_cv-py"
  },
  "language_info": {
   "codemirror_mode": {
    "name": "ipython",
    "version": 3
   },
   "file_extension": ".py",
   "mimetype": "text/x-python",
   "name": "python",
   "nbconvert_exporter": "python",
   "pygments_lexer": "ipython3",
   "version": "3.9.21"
  }
 },
 "nbformat": 4,
 "nbformat_minor": 5
}
